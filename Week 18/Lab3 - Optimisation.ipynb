{
 "cells": [
  {
   "cell_type": "markdown",
   "metadata": {},
   "source": [
    "# Lab 3: Introduction to Optimisation\n",
    "\n",
    "The purpose of this lab session is to introduce you to the main optimisation notions and let you build your first optimisation programs. Recall that in the last lecture we discussed an example with a brewery that produced two types of beel, ale and lager, and our goal was to decide, given the available ingredients and the profit margin, how many barrels to produce (and whether these are ale or lager) "
   ]
  },
  {
   "cell_type": "markdown",
   "metadata": {},
   "source": [
    "## 1. Our motivating example\n",
    "\n",
    "Let us start by revisiting the example; see also slides 58-63 in file **CF969 - 1 - Intro** in Unit 1. \n",
    "\n",
    "A barrel of ale requires 5 pounds of corn, 4 ounces of hops and 35 pounds of malt. Similarly, a barrel of lager requires 15 pounds of corn, 4 ounces of hops and 20 pounds of malt. Each barel of ale returns a profit of £13, while each barel of lager returns a profit of £23. Finally, our ingredients are restricted in quantity. We have 480 pounds of corn, 160 ounces of hops and 1190 pounds of malt.\n",
    "\n",
    "The following table summarises:"
   ]
  },
  {
   "cell_type": "markdown",
   "metadata": {},
   "source": [
    "| Beverage | Corn (lb) | Hops (oz) | Malt (lb) | Profit (£) |\n",
    "| --- | --- | --- | --- | --- |\n",
    "| Ale (barrel) | 5 | 4 | 35 | 13 |\n",
    "| Lager (barrel) | 15 | 4  | 20  | 23 |\n",
    "| Quantity | 480 | 160 | 1190 | |"
   ]
  },
  {
   "cell_type": "markdown",
   "metadata": {},
   "source": [
    "Recall what was our first step. We turned the **constraints** into equations involving **variables**. In particular, we used $A$ to denote the number of barrels of ale and $B$ denote the number of barrels of lager. Remember: our goal is to maximise our profit. This gave rise to the equations below. The top line is our **objective function** while the remaining lines correspond to **constraints**. The entire *program* is what we call a **linear program**. \n",
    "\n",
    "Note that both the objective function and all constraints are *linear*, that is, each variable ($A$ or $B$) appear with an exponent of $1$. For example, the objective function $\\max_{A,B}{13A^2+23B}$ would not be linear ($A$ is raised to the power of $2$), while a constraint such as $A\\cdot B\\leq 100$ would not be linear as the term $A\\cdot B$ involves multiplying two variables and is, hence, raised again to a power other than $1$.\n",
    "\n",
    "\\begin{eqnarray*}\n",
    "\\max_{A,B} & \\hspace{1cm}&13A+23B \\hspace{1cm} &\\text{%This is simply the profit equation}\\\\\n",
    "\\text{subject to} & \\hspace{1cm}&5A+15B &\\leq 480 &\\hspace{1cm} \\text{%Corn constraint}\\\\\n",
    "& \\hspace{1cm}&4A+4B &\\leq 160 &\\hspace{1cm} \\text{%Hops constraint}\\\\\n",
    "& \\hspace{1cm}&35A+20B &\\leq 1190 &\\hspace{1cm} \\text{%Malt constraint}\\\\\n",
    "& \\hspace{1cm}&A, B &\\geq 0 &\\hspace{1cm} \\text{%Our barrels must be non-negative numbers}\n",
    "\\end{eqnarray*}\n",
    "\n",
    "Note that this formulation allows for *fractional* barrels, that is, we do **not** restrict $A$ and $B$ to be **integers**.\n",
    "\n",
    "If you attended Lecture 2, you might remember that the **optimal** solution was to produce 12 barrels of ale and 28 barrels of lager, giving a profit of £800. I demonstrated why this is the optimal solution, by arguing about the **space of feasible solutions**, that is, about the possible solutions that satisfy all constraints, and then I explained why the solution $(A=12, B=28)$ is the best.\n",
    "\n",
    "*Question:* How would you do that in the computer? How would you implement such a set of constraints and get back the optimal solution?\n",
    "\n",
    "*Response*: There are of course several ways to do that. Today, we will focus on using functions offered by Python and in particular **linprog**. In particular, check the file *scipy.optimize.linprog — SciPy v1.10.0 Manual.pdf* that is on the CF969 moodle page -- see Unit 2 and folder lab3-files."
   ]
  },
  {
   "cell_type": "markdown",
   "metadata": {},
   "source": [
    "**Task 1**: Read the pdf file carefully. Do you understand what is the purpose of the function **linprog**?"
   ]
  },
  {
   "cell_type": "markdown",
   "metadata": {},
   "source": [
    "**Task 2**: Can you write a short program that verifies that the solution for our motivating example is indeed $(A=12, B=28)$?"
   ]
  },
  {
   "cell_type": "code",
   "execution_count": 2,
   "metadata": {},
   "outputs": [
    {
     "name": "stdout",
     "output_type": "stream",
     "text": [
      "        message: Optimization terminated successfully. (HiGHS Status 7: Optimal)\n",
      "        success: True\n",
      "         status: 0\n",
      "            fun: -800.0\n",
      "              x: [ 1.200e+01  2.800e+01]\n",
      "            nit: 3\n",
      "          lower:  residual: [ 1.200e+01  2.800e+01]\n",
      "                 marginals: [ 0.000e+00  0.000e+00]\n",
      "          upper:  residual: [       inf        inf]\n",
      "                 marginals: [ 0.000e+00  0.000e+00]\n",
      "          eqlin:  residual: []\n",
      "                 marginals: []\n",
      "        ineqlin:  residual: [ 0.000e+00  0.000e+00  2.100e+02]\n",
      "                 marginals: [-1.000e+00 -2.000e+00 -0.000e+00]\n",
      " mip_node_count: 0\n",
      " mip_dual_bound: 0.0\n",
      "        mip_gap: 0.0\n"
     ]
    }
   ],
   "source": [
    "# %load ./sol1.py\n",
    "c = [-13, -23]\n",
    "A = [[5, 15], [4, 4], [35, 20]]\n",
    "b = [480, 160, 1190]\n",
    "from scipy.optimize import linprog\n",
    "res = linprog(c, A_ub = A, b_ub=b, bounds = [0, None])\n",
    "print(res)"
   ]
  },
  {
   "cell_type": "markdown",
   "metadata": {},
   "source": [
    "How to interpret the result you obtained? It is clear to you?"
   ]
  },
  {
   "cell_type": "markdown",
   "metadata": {},
   "source": [
    "## 2. A second example\n",
    "\n",
    "The following is the example from the **linprog** manual. \n",
    "\n",
    "\n",
    "\\begin{eqnarray*}\n",
    "\\min_{x_0, x_1} & \\hspace{1cm}&-x_0+4x_1 \\\\\n",
    "\\text{subject to} & \\hspace{1cm}&-3x_0+x_1\\leq 6\\\\\n",
    "& \\hspace{1cm}&-x_0-2x_1 \\geq -4\\\\\n",
    "& \\hspace{1cm}&x_1\\geq -3\n",
    "\\end{eqnarray*}\n",
    "\n",
    "Observe that the problem is not presented in the form accepted by linprog. This is easily fixed by converting the “greater than” inequality constraint to a “less than” inequality constraint by multiplying both sides by a factor of $-1$. Note also that the last constraint is really the simple bound $-3 \\leq x_1 \\leq \\infty$. Finally, since there are no bounds on $x_0$, we must explicitly specify the bounds $-\\infty \\leq x_0 \\leq \\infty$, as the default is for variables to be non-negative. "
   ]
  },
  {
   "cell_type": "code",
   "execution_count": 3,
   "metadata": {},
   "outputs": [],
   "source": [
    "c = [-1, 4]\n",
    "A = [[-3, 1], [1, 2]]\n",
    "b = [6, 4]\n",
    "x0_bounds = (None, None)\n",
    "x1_bounds = (-3, None)\n",
    "from scipy.optimize import linprog\n",
    "res = linprog(c, A_ub=A, b_ub=b, bounds=(x0_bounds, x1_bounds))"
   ]
  },
  {
   "cell_type": "code",
   "execution_count": 4,
   "metadata": {},
   "outputs": [
    {
     "name": "stdout",
     "output_type": "stream",
     "text": [
      "        message: Optimization terminated successfully. (HiGHS Status 7: Optimal)\n",
      "        success: True\n",
      "         status: 0\n",
      "            fun: -22.0\n",
      "              x: [ 1.000e+01 -3.000e+00]\n",
      "            nit: 0\n",
      "          lower:  residual: [       inf  0.000e+00]\n",
      "                 marginals: [ 0.000e+00  6.000e+00]\n",
      "          upper:  residual: [       inf        inf]\n",
      "                 marginals: [ 0.000e+00  0.000e+00]\n",
      "          eqlin:  residual: []\n",
      "                 marginals: []\n",
      "        ineqlin:  residual: [ 3.900e+01  0.000e+00]\n",
      "                 marginals: [-0.000e+00 -1.000e+00]\n",
      " mip_node_count: 0\n",
      " mip_dual_bound: 0.0\n",
      "        mip_gap: 0.0\n"
     ]
    }
   ],
   "source": [
    "print(res)"
   ]
  },
  {
   "cell_type": "markdown",
   "metadata": {},
   "source": [
    "What does the output message mean? What is *fun*? What is *slack*? What is *x*? Some of these might be easy to guess, some of these we will discuss in the lectures.\n",
    "\n",
    "The following will depend on the version of linprog and python installed. We might observe that some of the numbers involved *look* like integer values, although they are not exactly integers (see for example the value of  *fun*). Let's try the following."
   ]
  },
  {
   "cell_type": "code",
   "execution_count": 11,
   "metadata": {
    "scrolled": true
   },
   "outputs": [
    {
     "name": "stdout",
     "output_type": "stream",
     "text": [
      "        message: Optimization terminated successfully. (HiGHS Status 7: Optimal)\n",
      "        success: True\n",
      "         status: 0\n",
      "            fun: -22.0\n",
      "              x: [ 1.000e+01 -3.000e+00]\n",
      "            nit: 0\n",
      "          lower:  residual: [       inf  0.000e+00]\n",
      "                 marginals: [ 0.000e+00  6.000e+00]\n",
      "          upper:  residual: [       inf        inf]\n",
      "                 marginals: [ 0.000e+00  0.000e+00]\n",
      "          eqlin:  residual: []\n",
      "                 marginals: []\n",
      "        ineqlin:  residual: [ 3.900e+01  0.000e+00]\n",
      "                 marginals: [-0.000e+00 -1.000e+00]\n",
      " mip_node_count: 0\n",
      " mip_dual_bound: 0.0\n",
      "        mip_gap: 0.0\n"
     ]
    }
   ],
   "source": [
    "res = linprog(c, A_ub=A, b_ub=b, bounds=(x0_bounds, x1_bounds), method='highs')\n",
    "print(res)"
   ]
  },
  {
   "cell_type": "markdown",
   "metadata": {},
   "source": [
    "## 3. Can we always solve linear programs?\n",
    "\n",
    "In the lecture, we discussed that it might happen that there is no solution (that is, the program is *infeasible*), or that the objective function is *unbounded*. "
   ]
  },
  {
   "cell_type": "markdown",
   "metadata": {},
   "source": [
    "**Task 3:** Write a 2-variable linear program that is infeasible. Also, write a 2-variable linear program that is unbounded. Let me know if you want me to check your solution."
   ]
  },
  {
   "cell_type": "markdown",
   "metadata": {},
   "source": [
    "**Task 4:** Draw the feasible region of the following 2-variable linear program.\n",
    "\\begin{eqnarray*}\n",
    "\\max_{x_1,x_2} & \\hspace{1cm}&2x_1-x_2 \\hspace{1cm} &\\\\\n",
    "\\text{subject to} & \\hspace{1cm}&x_1+x_2 &\\geq 1 &\\hspace{1cm}\\\\\n",
    "& \\hspace{1cm}&x_1-x_2 &\\leq 0 &\\hspace{1cm}\\\\\n",
    "& \\hspace{1cm}&3x_1+x_2 &\\leq 6 &\\hspace{1cm} \\\\\n",
    "& \\hspace{1cm}&x_1, x_2 &\\geq 0 &\\hspace{1cm} \n",
    "\\end{eqnarray*}\n",
    "\n",
    "Determine the optimal solution to this problem by inspection.\n",
    "    \n",
    "    "
   ]
  },
  {
   "cell_type": "code",
   "execution_count": 34,
   "metadata": {},
   "outputs": [
    {
     "data": {
      "text/plain": [
       "Text(0, 0.5, '$x_2$')"
      ]
     },
     "execution_count": 34,
     "metadata": {},
     "output_type": "execute_result"
    },
    {
     "data": {
      "image/png": "[encoded data removed]",
      "text/plain": [
       "<Figure size 640x480 with 1 Axes>"
      ]
     },
     "metadata": {},
     "output_type": "display_data"
    }
   ],
   "source": [
    "# %load ./sol2.py\n",
    "import numpy as np\n",
    "import matplotlib.pyplot as plt\n",
    "%matplotlib inline\n",
    "\n",
    "# plot the feasible region\n",
    "d = np.linspace(-2,6,300)\n",
    "x,y = np.meshgrid(d,d)\n",
    "plt.imshow( ((y>=0) & (x>=0) & (y>=1-x) & (y>=x) & (y<=6-3*x)).astype(int) , \n",
    "                extent=(x.min(),x.max(),y.min(),y.max()),origin=\"lower\", cmap=\"Greys\", alpha = 0.3);\n",
    "\n",
    "# plot the lines defining the constraints\n",
    "x = np.linspace(0, 6, 2000)\n",
    "# x2 >= 0\n",
    "y1 = (x*0)+0 \n",
    "# x1+x2 >=1 \n",
    "y2 = 1-x\n",
    "# x1-x2<=0 \n",
    "y3 = x\n",
    "# 3x1+x2 <= 6 \n",
    "y4 = 6-3 * x\n",
    "\n",
    "\n",
    "# Make plot\n",
    "plt.plot(x, 0*np.ones_like(y1))\n",
    "plt.plot(x, y2, label=r'$x_1+x_2\\geq 1$')\n",
    "plt.plot(x, y3, label=r'$x_1-x_2 \\leq 0$')\n",
    "plt.plot(x, y4, label=r'$3x_1+x_2 \\leq 6$')\n",
    "plt.xlim(0,6)\n",
    "plt.ylim(0,6)\n",
    "plt.legend(bbox_to_anchor=(1.05, 0.5), loc=2, borderaxespad=0.)\n",
    "plt.xlabel(r'$x_1$')\n",
    "plt.ylabel(r'$x_2$')"
   ]
  },
  {
   "cell_type": "code",
   "execution_count": 35,
   "metadata": {},
   "outputs": [
    {
     "data": {
      "text/plain": [
       "<matplotlib.legend.Legend at 0x15001d490>"
      ]
     },
     "execution_count": 35,
     "metadata": {},
     "output_type": "execute_result"
    },
    {
     "data": {
      "image/png": "[encoded data removed]",
      "text/plain": [
       "<Figure size 640x480 with 1 Axes>"
      ]
     },
     "metadata": {},
     "output_type": "display_data"
    }
   ],
   "source": [
    "\n",
    "plt.plot(x, 0*np.ones_like(y1))\n",
    "plt.plot(x, y2, label=r'$x_1+x_2\\geq 1$')\n",
    "plt.plot(x, y3, label=r'$x_1-x_2 \\leq 0$')\n",
    "plt.plot(x, y4, label=r'$3x_1+x_2 \\leq 6$')\n",
    "plt.xlim(0,6)\n",
    "plt.ylim(0,6)\n",
    "plt.legend(bbox_to_anchor=(1.05, 0.5), loc=2, borderaxespad=0.)"
   ]
  },
  {
   "cell_type": "markdown",
   "metadata": {},
   "source": [
    "## 4. Exercises on solving linear programs"
   ]
  },
  {
   "cell_type": "markdown",
   "metadata": {},
   "source": [
    "**Task 5:** A company will face the following cash requirements in the next eight quarters (positive entries\n",
    "represent cash needs while negative entries represent cash surpluses). \n",
    "\n",
    "| Q1 | Q2 | Q3 | Q4 | Q5 | Q6 | Q7 | Q8 |\n",
    "| --- | --- | --- | --- | --- | --- | --- | --- |\n",
    "| 100 | 500 | 100 | -600 | -500 | 200 | 600 | -900 |\n",
    "\n",
    "The company has three borrowing possibilities.\n",
    "<ul>\n",
    "<li> a 2-year loan available at the beginning of Q1, with a 1% interest per quarter.\n",
    "<li> The other two borrowing opportunities are available at the beginning of every quarter: a 6-\n",
    "month loan with a 1.8% interest per quarter, and a quarterly loan with a 2.5% interest for the\n",
    "quarter.\n",
    "</ul>\n",
    "    \n",
    "Any surplus can be invested at a 0.5% interest per quarter. Formulate a linear program that maximises\n",
    "the wealth of the company at the beginning of Q9. Solve the problem using **linprog** and interpret the\n",
    "solution.\n",
    "\n",
    "**Hints:** There as some modelling decisions to make here. To begin with, *what are the variables?* To answer that, consider the financing tools at our disposal. Then, *how do our constraints look like?* The table above (cash requirements for 8 quarters) indicate that we have eight non-trivial constraints. Finally, *what is the objective function?*\n",
    "\n",
    "**Solution**: Please see below for the solution and check file 'How to build the model' in the lab3-files folder."
   ]
  },
  {
   "cell_type": "code",
   "execution_count": 40,
   "metadata": {},
   "outputs": [
    {
     "name": "stdout",
     "output_type": "stream",
     "text": [
      "Phase Iteration Minimum Slack       Constraint Residual Objective          \n",
      "1     0         NA                  1131.370849898      -900.0              \n",
      "1     1         NA                  1084.622736254      -900.0              \n",
      "1     2         NA                  879.4789725306      -900.0              \n",
      "1     3         NA                  792.3938429683      -900.0              \n",
      "1     4         NA                  727.2892907422      -900.0              \n",
      "1     5         NA                  621.5481973748      -900.0              \n",
      "1     6         NA                  434.3424603237      -900.0              \n",
      "1     7         NA                  330.5410934859      -799.0              \n",
      "1     8         NA                  299.9109874116      -768.5675148382     \n",
      "1     9         NA                  1.803155319699e-13  -461.1587527412     \n",
      "2     9         NA                  1.803155319699e-13  -461.1587527412     \n",
      "2     10        NA                  1.392373714443e-13  -468.7828125949     \n",
      "2     11        NA                  2.360884497795e-13  -471.3459717977     \n",
      "Optimization terminated successfully.\n",
      "         Current function value: -471.345972 \n",
      "         Iterations: 11\n"
     ]
    },
    {
     "name": "stderr",
     "output_type": "stream",
     "text": [
      "/var/folders/t_/4t8_qnxj42v8gqmhh22r_hs80000gn/T/ipykernel_61221/2075135612.py:22: DeprecationWarning: `method='revised simplex'` is deprecated and will be removed in SciPy 1.11.0. Please use one of the HiGHS solvers (e.g. `method='highs'`) in new code.\n",
      "  res = linprog(c, A_eq=A, b_eq=b, method='revised simplex', options={\"disp\": True})\n"
     ]
    },
    {
     "data": {
      "text/plain": [
       "array([424.40992891,   0.        ,   0.        , 324.40992891,\n",
       "       178.21212073,   0.        ,   0.        ,   0.        ,\n",
       "       107.45191746,   0.        ,   0.        ,   0.        ,\n",
       "       304.19774641,   0.        ,   0.        , 801.47463585,\n",
       "         0.        ,   0.        , 601.23790974,   0.        ,\n",
       "         0.        , 471.3459718 ])"
      ]
     },
     "execution_count": 40,
     "metadata": {},
     "output_type": "execute_result"
    }
   ],
   "source": [
    "# %load ./sol3.py\n",
    "import numpy as np\n",
    "from scipy.optimize import linprog\n",
    "\n",
    "# I generate the vector of coefficients in the objective function and initialize the matrix of contraint coefficients\n",
    "c = np.concatenate([np.zeros(21), [-1]]) # Recall that linprog has a minimization objective, so we minimize -wealth\n",
    "A = np.zeros((8,22))\n",
    "\n",
    "# I create a row for each constraint\n",
    "A[0] = np.concatenate([[1,1,1,-1],np.zeros(18)])\n",
    "A[1] = np.concatenate([[-0.01, -0.018, -1.025, 1.005, 1, 1, -1],np.zeros(15)])\n",
    "A[2] = np.concatenate([[-0.01, -1.018, 0, 0, -0.018, -1.025, 1.005, 1, 1, -1],np.zeros(12)])\n",
    "A[3] = np.concatenate([[-0.01, 0, 0, 0, -1.018, 0, 0, -0.018, -1.025, 1.005, 1, 1, -1],np.zeros(9)])\n",
    "A[4] = np.concatenate([[-0.01], np.zeros(6), [-1.018, 0, 0, -0.018, -1.025, 1.005, 1, 1, -1],np.zeros(6)])\n",
    "A[5] = np.concatenate([[-0.01], np.zeros(9), [-1.018, 0, 0, -0.018, -1.025, 1.005, 1, 1, -1],np.zeros(3)])\n",
    "A[6] = np.concatenate([[-0.01], np.zeros(12), [-1.018, 0, 0, -0.018, -1.025, 1.005, 1, -1, 0]])\n",
    "A[7] = np.concatenate([[-1.01], np.zeros(15), [-1.018, 0, 0, -1.025, 1.005, -1]])\n",
    "\n",
    "b = [100, 500, 100, -600, -500, 200, 600, -900]\n",
    "\n",
    "# It is now time to solve. All variables are constrained to be non-negative, so I don't need to specify the bounds; this is the default\n",
    "res = linprog(c, A_eq=A, b_eq=b, method='revised simplex', options={\"disp\": True})\n",
    "\n",
    "# Print the solution. Recall that the wealth is the last variable. \n",
    "res.x"
   ]
  },
  {
   "cell_type": "code",
   "execution_count": 39,
   "metadata": {},
   "outputs": [
    {
     "name": "stdout",
     "output_type": "stream",
     "text": [
      "C= 22\n",
      "A =  [[0. 0. 0. 0. 0. 0. 0. 0. 0. 0. 0. 0. 0. 0. 0. 0. 0. 0. 0. 0. 0. 0.]\n",
      " [0. 0. 0. 0. 0. 0. 0. 0. 0. 0. 0. 0. 0. 0. 0. 0. 0. 0. 0. 0. 0. 0.]\n",
      " [0. 0. 0. 0. 0. 0. 0. 0. 0. 0. 0. 0. 0. 0. 0. 0. 0. 0. 0. 0. 0. 0.]\n",
      " [0. 0. 0. 0. 0. 0. 0. 0. 0. 0. 0. 0. 0. 0. 0. 0. 0. 0. 0. 0. 0. 0.]\n",
      " [0. 0. 0. 0. 0. 0. 0. 0. 0. 0. 0. 0. 0. 0. 0. 0. 0. 0. 0. 0. 0. 0.]\n",
      " [0. 0. 0. 0. 0. 0. 0. 0. 0. 0. 0. 0. 0. 0. 0. 0. 0. 0. 0. 0. 0. 0.]\n",
      " [0. 0. 0. 0. 0. 0. 0. 0. 0. 0. 0. 0. 0. 0. 0. 0. 0. 0. 0. 0. 0. 0.]\n",
      " [0. 0. 0. 0. 0. 0. 0. 0. 0. 0. 0. 0. 0. 0. 0. 0. 0. 0. 0. 0. 0. 0.]]\n"
     ]
    }
   ],
   "source": [
    "import numpy as np\n",
    "c = np.concatenate([np.zeros(21), [-1]])\n",
    "A = np.zeros((8,22))\n",
    "print(\"C=\",len(c))\n",
    "print(\"A = \",A)"
   ]
  },
  {
   "cell_type": "markdown",
   "metadata": {},
   "source": [
    "**Task 6:** Consider a restaurant that is open seven days a week. Based on past experience, the number of workers needed on a particular day is given as follows: \n",
    "\n",
    "| Mon | Tue | Wed | Thu | Fri | Sat | Sun | \n",
    "| --- | --- | --- | --- | --- | --- | --- |\n",
    "| 14 | 13 | 15 | 16 | 19 | 18 | 11 |\n",
    "\n",
    "Every worker works five days in a week and has two days off in the following pattern: three days work, one day off, two days work, one day off. So, there are workers working on Mon-Tue-Wed-Fri-Sat, other workers on Tue-Wed-Thu-Sat-Sun, etc. How can we minimize the number of workers that staff the restaurant? \n",
    "\n",
    "**Hint**: Let's begin by following the same approach as above. That is, let's formulate a linear program and then use **linprog** to solve it. See also the file *How to build the model* in the lab3-files folder."
   ]
  },
  {
   "cell_type": "code",
   "execution_count": 3,
   "metadata": {},
   "outputs": [],
   "source": [
    "# %load ./sol4a.py\n",
    "Minimize  x1+x2+x3+x4+x5+x6+x7\n",
    "Subject to\n",
    "\n",
    "x1+x3+x4+x5+x7 >= 14 \n",
    "x1+x2+x4+x5+x6 >= 13 \n",
    "x2+x3+x5+x6+x7 >= 15 \n",
    "x1+x3+x4+x6+x7 >= 16 \n",
    "x1+x2+x4+x5+x7 >= 19 \n",
    "x1+x2+x3+x5+x6 >= 18 \n",
    "x2+x3+x4+x6+x7 >= 11 \n",
    "\n",
    "All  x's should be non-negative integers"
   ]
  },
  {
   "cell_type": "markdown",
   "metadata": {},
   "source": [
    "After creating the linear program, let's attempt to solve it. "
   ]
  },
  {
   "cell_type": "code",
   "execution_count": 5,
   "metadata": {},
   "outputs": [
    {
     "name": "stdout",
     "output_type": "stream",
     "text": [
      "Phase Iteration Minimum Slack       Constraint Residual Objective          \n",
      "1     0         -19.0               0.0                 0.0                 \n",
      "1     1         -15.0               0.0                 13.0                \n",
      "1     2         -14.0               0.0                 14.0                \n",
      "1     3         -6.0                0.0                 18.0                \n",
      "1     4         -6.0                0.0                 18.66666666667      \n",
      "1     5         -5.0                0.0                 19.0                \n",
      "1     6         -4.0                0.0                 20.0                \n",
      "1     7         -2.0                0.0                 22.0                \n",
      "1     8         0.0                 0.0                 22.66666666667      \n",
      "2     8         0.0                 0.0                 22.66666666667      \n",
      "Optimization terminated successfully.\n",
      "         Current function value: 22.666667   \n",
      "         Iterations: 8\n"
     ]
    },
    {
     "name": "stderr",
     "output_type": "stream",
     "text": [
      "/var/folders/t_/4t8_qnxj42v8gqmhh22r_hs80000gn/T/ipykernel_98515/3429918675.py:20: DeprecationWarning: `method='revised simplex'` is deprecated and will be removed in SciPy 1.11.0. Please use one of the HiGHS solvers (e.g. `method='highs'`) in new code.\n",
      "  res = linprog(c, A_ub=A, b_ub=b, method='revised simplex', options={\"disp\": True})\n"
     ]
    },
    {
     "data": {
      "text/plain": [
       "array([7.66666667, 2.66666667, 3.66666667, 0.        , 4.        ,\n",
       "       0.        , 4.66666667])"
      ]
     },
     "execution_count": 5,
     "metadata": {},
     "output_type": "execute_result"
    }
   ],
   "source": [
    "# %load ./sol4b.py\n",
    "import numpy as np\n",
    "from scipy.optimize import linprog\n",
    "\n",
    "# I generate the vector of coefficients in the objective function \n",
    "c = np.array([1,1,1,1,1,1,1])\n",
    "A = np.zeros((7,7))\n",
    "\n",
    "# I create a row for each constraint\n",
    "A[0] = np.array([-1,0,-1,-1,-1,0,-1])\n",
    "A[1] = np.array([-1,-1,0,-1,-1,-1,0])\n",
    "A[2] = np.array([0,-1,-1,0,-1,-1,-1])\n",
    "A[3] = np.array([-1,0,-1,-1,0,-1,-1])\n",
    "A[4] = np.array([-1,-1,0,-1,-1,0,-1])\n",
    "A[5] = np.array([-1,-1,-1,0,-1,-1,0])\n",
    "A[6] = np.array([0,-1,-1,-1,0,-1,-1])\n",
    "b = np.array([-14, -13, -15, -16, -19, -18, -11])\n",
    "\n",
    "# It is now time to solve. All variables are constrained to be non-negative, so I don't need to specify the bounds; this is the default\n",
    "res = linprog(c, A_ub=A, b_ub=b, method='revised simplex', options={\"disp\": True})\n",
    "\n",
    "# Print the solution. Recall that the wealth is the last variable. \n",
    "res.x"
   ]
  },
  {
   "cell_type": "markdown",
   "metadata": {},
   "source": [
    "What do you observe? How does the optimal solution (that is, number of workers per day) look like?"
   ]
  },
  {
   "cell_type": "markdown",
   "metadata": {},
   "source": [
    "## 5. Integer linear programming"
   ]
  },
  {
   "cell_type": "markdown",
   "metadata": {},
   "source": [
    "The last example demonstrated a drawback of **linprog**. There are settings where we require that our solution is **integral**. For example, we cannot have $3.5$ people in a work shift. In next week's lab we will examine software that does not necessarily involve python. Today, we will examine [PuLP](https://pypi.org/project/PuLP/).\n",
    "\n",
    "We begin with installing PuLP. The following line might require a kernel restart; this will necessary if you see a message that installation is successful but you get an error message when executing **from pulp import** below."
   ]
  },
  {
   "cell_type": "code",
   "execution_count": 6,
   "metadata": {},
   "outputs": [
    {
     "name": "stdout",
     "output_type": "stream",
     "text": [
      "Collecting PuLP\n",
      "  Downloading PuLP-2.7.0-py3-none-any.whl (14.3 MB)\n",
      "\u001b[2K     \u001b[90m━━━━━━━━━━━━━━━━━━━━━━━━━━━━━━━━━━━━━━━━\u001b[0m \u001b[32m14.3/14.3 MB\u001b[0m \u001b[31m43.2 MB/s\u001b[0m eta \u001b[36m0:00:00\u001b[0ma \u001b[36m0:00:01\u001b[0m\n",
      "\u001b[?25hInstalling collected packages: PuLP\n",
      "\u001b[33m  WARNING: The script pulptest is installed in '/Users/cjs/Library/Python/3.11/bin' which is not on PATH.\n",
      "  Consider adding this directory to PATH or, if you prefer to suppress this warning, use --no-warn-script-location.\u001b[0m\u001b[33m\n",
      "\u001b[0mSuccessfully installed PuLP-2.7.0\n"
     ]
    }
   ],
   "source": [
    "!pip install PuLP --user"
   ]
  },
  {
   "cell_type": "markdown",
   "metadata": {},
   "source": [
    "We will first build the model, that is, declare **objective function**, **variables** and **constraints**. We create a variable for each shift and we follow the same reasoning as in the previous linear program that used **linprog**.  "
   ]
  },
  {
   "cell_type": "code",
   "execution_count": 1,
   "metadata": {},
   "outputs": [],
   "source": [
    "from pulp import *\n",
    "problem = LpProblem('Shifts', LpMinimize)\n",
    "\n",
    "x1 = LpVariable('Shift 1', lowBound=0 , cat=LpInteger)\n",
    "x2 = LpVariable('Shift 2', lowBound=0 , cat=LpInteger)\n",
    "x3 = LpVariable('Shift 3', lowBound=0 , cat=LpInteger)\n",
    "x4 = LpVariable('Shift 4', lowBound=0 , cat=LpInteger)\n",
    "x5 = LpVariable('Shift 5', lowBound=0 , cat=LpInteger)\n",
    "x6 = LpVariable('Shift 6', lowBound=0 , cat=LpInteger)\n",
    "x7 = LpVariable('Shift 7', lowBound=0 , cat=LpInteger)\n",
    "\n",
    "#Objective Function\n",
    "problem += x1+x2+x3+x4+x5+x6+x7\n",
    "\n",
    "#Constraints\n",
    "problem += x1+x3+x4+x5+x7 >= 14\n",
    "problem += x1+x2+x4+x5+x6 >= 13\n",
    "problem += x2+x3+x5+x6+x7 >= 15\n",
    "problem += x1+x3+x4+x6+x7 >= 16\n",
    "problem += x1+x2+x4+x5+x7 >= 19\n",
    "problem += x1+x2+x3+x5+x6 >= 18\n",
    "problem += x2+x3+x4+x6+x7 >= 11"
   ]
  },
  {
   "cell_type": "markdown",
   "metadata": {},
   "source": [
    "Let's see how our model looks like"
   ]
  },
  {
   "cell_type": "code",
   "execution_count": 2,
   "metadata": {},
   "outputs": [
    {
     "data": {
      "text/plain": [
       "Shifts:\n",
       "MINIMIZE\n",
       "1*Shift_1 + 1*Shift_2 + 1*Shift_3 + 1*Shift_4 + 1*Shift_5 + 1*Shift_6 + 1*Shift_7 + 0\n",
       "SUBJECT TO\n",
       "_C1: Shift_1 + Shift_3 + Shift_4 + Shift_5 + Shift_7 >= 14\n",
       "\n",
       "_C2: Shift_1 + Shift_2 + Shift_4 + Shift_5 + Shift_6 >= 13\n",
       "\n",
       "_C3: Shift_2 + Shift_3 + Shift_5 + Shift_6 + Shift_7 >= 15\n",
       "\n",
       "_C4: Shift_1 + Shift_3 + Shift_4 + Shift_6 + Shift_7 >= 16\n",
       "\n",
       "_C5: Shift_1 + Shift_2 + Shift_4 + Shift_5 + Shift_7 >= 19\n",
       "\n",
       "_C6: Shift_1 + Shift_2 + Shift_3 + Shift_5 + Shift_6 >= 18\n",
       "\n",
       "_C7: Shift_2 + Shift_3 + Shift_4 + Shift_6 + Shift_7 >= 11\n",
       "\n",
       "VARIABLES\n",
       "0 <= Shift_1 Integer\n",
       "0 <= Shift_2 Integer\n",
       "0 <= Shift_3 Integer\n",
       "0 <= Shift_4 Integer\n",
       "0 <= Shift_5 Integer\n",
       "0 <= Shift_6 Integer\n",
       "0 <= Shift_7 Integer"
      ]
     },
     "execution_count": 2,
     "metadata": {},
     "output_type": "execute_result"
    }
   ],
   "source": [
    "problem"
   ]
  },
  {
   "cell_type": "markdown",
   "metadata": {},
   "source": [
    "Time to solve it and print the solution!"
   ]
  },
  {
   "cell_type": "code",
   "execution_count": 3,
   "metadata": {},
   "outputs": [
    {
     "name": "stdout",
     "output_type": "stream",
     "text": [
      "Welcome to the CBC MILP Solver \n",
      "Version: 2.10.3 \n",
      "Build Date: Dec 15 2019 \n",
      "\n",
      "command line - /Users/cjs/Library/Python/3.11/lib/python/site-packages/pulp/solverdir/cbc/osx/64/cbc /var/folders/t_/4t8_qnxj42v8gqmhh22r_hs80000gn/T/b49cd47752564722906e68ea1f0dbd8b-pulp.mps timeMode elapsed branch printingOptions all solution /var/folders/t_/4t8_qnxj42v8gqmhh22r_hs80000gn/T/b49cd47752564722906e68ea1f0dbd8b-pulp.sol (default strategy 1)\n",
      "At line 2 NAME          MODEL\n",
      "At line 3 ROWS\n",
      "At line 12 COLUMNS\n",
      "At line 69 RHS\n",
      "At line 77 BOUNDS\n",
      "At line 85 ENDATA\n",
      "Problem MODEL has 7 rows, 7 columns and 35 elements\n",
      "Coin0008I MODEL read with 0 errors\n",
      "Option for timeMode changed from cpu to elapsed\n",
      "Continuous objective value is 22.6667 - 0.00 seconds\n",
      "Cgl0003I 0 fixed, 7 tightened bounds, 0 strengthened rows, 0 substitutions\n",
      "Cgl0004I processed model has 7 rows, 7 columns (7 integer (0 of which binary)) and 35 elements\n",
      "Cutoff increment increased from 1e-05 to 0.9999\n",
      "Cbc0012I Integer solution of 24 found by greedy cover after 0 iterations and 0 nodes (0.00 seconds)\n",
      "Cbc0038I Full problem 7 rows 7 columns, reduced to 5 rows 4 columns\n",
      "Cbc0012I Integer solution of 23 found by DiveCoefficient after 1 iterations and 0 nodes (0.01 seconds)\n",
      "Cbc0031I 1 added rows had average density of 7\n",
      "Cbc0013I At root node, 1 cuts changed objective from 22.666667 to 23 in 2 passes\n",
      "Cbc0014I Cut generator 0 (Probing) - 0 row cuts average 0.0 elements, 1 column cuts (1 active)  in 0.000 seconds - new frequency is 1\n",
      "Cbc0014I Cut generator 1 (Gomory) - 1 row cuts average 7.0 elements, 0 column cuts (0 active)  in 0.000 seconds - new frequency is 1\n",
      "Cbc0014I Cut generator 2 (Knapsack) - 0 row cuts average 0.0 elements, 0 column cuts (0 active)  in 0.000 seconds - new frequency is -100\n",
      "Cbc0014I Cut generator 3 (Clique) - 0 row cuts average 0.0 elements, 0 column cuts (0 active)  in 0.000 seconds - new frequency is -100\n",
      "Cbc0014I Cut generator 4 (MixedIntegerRounding2) - 0 row cuts average 0.0 elements, 0 column cuts (0 active)  in 0.000 seconds - new frequency is -100\n",
      "Cbc0014I Cut generator 5 (FlowCover) - 0 row cuts average 0.0 elements, 0 column cuts (0 active)  in 0.000 seconds - new frequency is -100\n",
      "Cbc0001I Search completed - best objective 23, took 1 iterations and 0 nodes (0.01 seconds)\n",
      "Cbc0035I Maximum depth 0, 0 variables fixed on reduced cost\n",
      "Cuts at root node changed objective from 22.6667 to 23\n",
      "Probing was tried 2 times and created 1 cuts of which 0 were active after adding rounds of cuts (0.000 seconds)\n",
      "Gomory was tried 2 times and created 1 cuts of which 0 were active after adding rounds of cuts (0.000 seconds)\n",
      "Knapsack was tried 2 times and created 0 cuts of which 0 were active after adding rounds of cuts (0.000 seconds)\n",
      "Clique was tried 2 times and created 0 cuts of which 0 were active after adding rounds of cuts (0.000 seconds)\n",
      "MixedIntegerRounding2 was tried 2 times and created 0 cuts of which 0 were active after adding rounds of cuts (0.000 seconds)\n",
      "FlowCover was tried 2 times and created 0 cuts of which 0 were active after adding rounds of cuts (0.000 seconds)\n",
      "TwoMirCuts was tried 1 times and created 0 cuts of which 0 were active after adding rounds of cuts (0.000 seconds)\n",
      "ZeroHalf was tried 1 times and created 0 cuts of which 0 were active after adding rounds of cuts (0.000 seconds)\n",
      "\n",
      "Result - Optimal solution found\n",
      "\n",
      "Objective value:                23.00000000\n",
      "Enumerated nodes:               0\n",
      "Total iterations:               1\n",
      "Time (CPU seconds):             0.00\n",
      "Time (Wallclock seconds):       0.01\n",
      "\n",
      "Option for printingOptions changed from normal to all\n",
      "Total time (CPU seconds):       0.00   (Wallclock seconds):       0.01\n",
      "\n",
      "Shift 1: 8.0\n",
      "Shift 2: 6.0\n",
      "Shift 3: 1.0\n",
      "Shift 4: 0.0\n",
      "Shift 5: 0.0\n",
      "Shift 6: 3.0\n",
      "Shift 7: 5.0\n"
     ]
    }
   ],
   "source": [
    "problem.solve()\n",
    "print(\"Shift 1:\", x1.varValue)\n",
    "print(\"Shift 2:\", x2.varValue)\n",
    "print(\"Shift 3:\", x3.varValue)\n",
    "print(\"Shift 4:\", x4.varValue)\n",
    "print(\"Shift 5:\", x5.varValue)\n",
    "print(\"Shift 6:\", x6.varValue)\n",
    "print(\"Shift 7:\", x7.varValue)"
   ]
  },
  {
   "cell_type": "markdown",
   "metadata": {},
   "source": [
    "To make sure that the solution is valid, we could check that the number of workers per shift satisfy the constraints."
   ]
  },
  {
   "cell_type": "markdown",
   "metadata": {},
   "source": [
    "**Task 7:** Solve tasks 5 and 6 using PuLP"
   ]
  }
 ],
 "metadata": {
  "kernelspec": {
   "display_name": "Python 3",
   "language": "python",
   "name": "python3"
  },
  "language_info": {
   "codemirror_mode": {
    "name": "ipython",
    "version": 3
   },
   "file_extension": ".py",
   "mimetype": "text/x-python",
   "name": "python",
   "nbconvert_exporter": "python",
   "pygments_lexer": "ipython3",
   "version": "3.11.0"
  },
  "vscode": {
   "interpreter": {
    "hash": "5c7b89af1651d0b8571dde13640ecdccf7d5a6204171d6ab33e7c296e100e08a"
   }
  }
 },
 "nbformat": 4,
 "nbformat_minor": 4
}
